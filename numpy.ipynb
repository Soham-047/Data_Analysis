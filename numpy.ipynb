{
 "cells": [
  {
   "cell_type": "markdown",
   "id": "7d0af52e",
   "metadata": {},
   "source": [
    "\n",
    "\n",
    "\n",
    "\n",
    "NUMPY"
   ]
  },
  {
   "cell_type": "code",
   "execution_count": 8,
   "id": "d954a003",
   "metadata": {},
   "outputs": [],
   "source": [
    "#create a list of 1,00,00,00 salaries ranging from 50,000 to 1,50,00\n",
    "import random\n",
    "salary_list = [random.randint(50000, 150000) for _ in range(1000000)]"
   ]
  },
  {
   "cell_type": "markdown",
   "id": "b9edb086",
   "metadata": {},
   "source": []
  },
  {
   "cell_type": "code",
   "execution_count": 9,
   "id": "b2948929",
   "metadata": {},
   "outputs": [],
   "source": [
    "import statistics"
   ]
  },
  {
   "cell_type": "code",
   "execution_count": 10,
   "id": "11717c37",
   "metadata": {},
   "outputs": [
    {
     "name": "stdout",
     "output_type": "stream",
     "text": [
      "177 ms ± 3.15 ms per loop (mean ± std. dev. of 7 runs, 10 loops each)\n"
     ]
    }
   ],
   "source": [
    "%%timeit\n",
    "statistics.mean(salary_list)"
   ]
  },
  {
   "cell_type": "code",
   "execution_count": 2,
   "id": "9b8001d8",
   "metadata": {},
   "outputs": [],
   "source": [
    "import numpy as np\n"
   ]
  },
  {
   "cell_type": "code",
   "execution_count": 13,
   "id": "b97123f1",
   "metadata": {},
   "outputs": [
    {
     "name": "stdout",
     "output_type": "stream",
     "text": [
      "40.4 ms ± 213 μs per loop (mean ± std. dev. of 7 runs, 10 loops each)\n"
     ]
    }
   ],
   "source": [
    "%%timeit\n",
    "np.mean(salary_list)"
   ]
  },
  {
   "cell_type": "code",
   "execution_count": 16,
   "id": "9b5e3352",
   "metadata": {},
   "outputs": [],
   "source": [
    "import numpy as np\n",
    "arr = np.array([1, 2, 3, 4, 5])"
   ]
  },
  {
   "cell_type": "code",
   "execution_count": 17,
   "id": "e7019724",
   "metadata": {},
   "outputs": [
    {
     "data": {
      "text/plain": [
       "np.float64(3.0)"
      ]
     },
     "execution_count": 17,
     "metadata": {},
     "output_type": "execute_result"
    }
   ],
   "source": [
    "arr.mean()"
   ]
  },
  {
   "cell_type": "code",
   "execution_count": 30,
   "id": "e218ca58",
   "metadata": {},
   "outputs": [],
   "source": [
    "# Job titles\n",
    "job_titles = np.array(['Data Analyst', 'Data Scientist', 'Data Engineer', 'Machine Learning Engineer'])\n",
    "\n",
    "# Base salaries\n",
    "base_salaries = np.array( [60000, 80000, 75000, 90000, np.nan] )\n",
    "\n",
    "# Bonus rates\n",
    "bonus_rates = np.array([.05, .1, .08, .12, np.nan])"
   ]
  },
  {
   "cell_type": "code",
   "execution_count": 31,
   "id": "2c326619",
   "metadata": {},
   "outputs": [
    {
     "data": {
      "text/plain": [
       "array([ 63000.,  88000.,  81000., 100800.,     nan])"
      ]
     },
     "execution_count": 31,
     "metadata": {},
     "output_type": "execute_result"
    }
   ],
   "source": [
    "total_salaries = base_salaries * (1 + bonus_rates)\n",
    "total_salaries"
   ]
  },
  {
   "cell_type": "code",
   "execution_count": 25,
   "id": "de8d00e6",
   "metadata": {},
   "outputs": [
    {
     "name": "stdout",
     "output_type": "stream",
     "text": [
      "2.37 μs ± 8.73 ns per loop (mean ± std. dev. of 7 runs, 100,000 loops each)\n"
     ]
    }
   ],
   "source": [
    "%%timeit\n",
    "total_salaries.mean()"
   ]
  },
  {
   "cell_type": "code",
   "execution_count": 24,
   "id": "81a510ee",
   "metadata": {},
   "outputs": [
    {
     "name": "stdout",
     "output_type": "stream",
     "text": [
      "2.92 μs ± 11.4 ns per loop (mean ± std. dev. of 7 runs, 100,000 loops each)\n"
     ]
    }
   ],
   "source": [
    "%%timeit\n",
    "np.mean(total_salaries)\n"
   ]
  },
  {
   "cell_type": "code",
   "execution_count": 10,
   "id": "43e68b73",
   "metadata": {},
   "outputs": [],
   "source": [
    "a = np.arange(0, 16).reshape(4, 4)"
   ]
  },
  {
   "cell_type": "code",
   "execution_count": 18,
   "id": "580ca678",
   "metadata": {},
   "outputs": [
    {
     "data": {
      "text/plain": [
       "array([[ 0,  2,  4,  6],\n",
       "       [ 8, 10, 12, 14],\n",
       "       [16, 18, 20, 22],\n",
       "       [24, 26, 28, 30]])"
      ]
     },
     "execution_count": 18,
     "metadata": {},
     "output_type": "execute_result"
    }
   ],
   "source": [
    "a\n",
    "b = a * 2\n",
    "b"
   ]
  },
  {
   "cell_type": "code",
   "execution_count": 17,
   "id": "6e972e18",
   "metadata": {},
   "outputs": [
    {
     "data": {
      "text/plain": [
       "array([48, 56, 64, 72])"
      ]
     },
     "execution_count": 17,
     "metadata": {},
     "output_type": "execute_result"
    }
   ],
   "source": [
    "b.sum(axis = 0)"
   ]
  },
  {
   "cell_type": "code",
   "execution_count": null,
   "id": "d3a8317f",
   "metadata": {},
   "outputs": [],
   "source": []
  }
 ],
 "metadata": {
  "kernelspec": {
   "display_name": "Python 3",
   "language": "python",
   "name": "python3"
  },
  "language_info": {
   "codemirror_mode": {
    "name": "ipython",
    "version": 3
   },
   "file_extension": ".py",
   "mimetype": "text/x-python",
   "name": "python",
   "nbconvert_exporter": "python",
   "pygments_lexer": "ipython3",
   "version": "3.12.8"
  }
 },
 "nbformat": 4,
 "nbformat_minor": 5
}
